{
 "cells": [
  {
   "cell_type": "code",
   "execution_count": 1,
   "metadata": {},
   "outputs": [
    {
     "name": "stdout",
     "output_type": "stream",
     "text": [
      "2023-08-08 13:21:34,284 (DEBUG): Welcome to IPS - the Interatomic Potential Suite!\n"
     ]
    }
   ],
   "source": [
    "import ipsuite as ips"
   ]
  },
  {
   "cell_type": "markdown",
   "metadata": {},
   "source": [
    "DFT based on https://www.sciencedirect.com/science/article/pii/S1386142521004455#b0030"
   ]
  },
  {
   "cell_type": "code",
   "execution_count": 2,
   "metadata": {},
   "outputs": [],
   "source": [
    "cp2k_shell = \"cp2k_shell.ssmp\"\n",
    "# cp2k_shell = \"mpirun -np 12 /home/linux38_i1/schaefer/miniconda3/envs/dmso/bin/cp2k_shell.psmp\""
   ]
  },
  {
   "cell_type": "markdown",
   "metadata": {},
   "source": [
    "# Auxiliary Nodes"
   ]
  },
  {
   "cell_type": "code",
   "execution_count": 3,
   "metadata": {},
   "outputs": [],
   "source": [
    "thermostat = ips.calculators.LangevinThermostat(\n",
    "    temperature=298.15, friction=0.01, time_step=0.5\n",
    ")\n",
    "\n",
    "uncertainty_check = ips.analysis.ThresholdCheck(\n",
    "    value=\"energy_uncertainty\", max_value=2.0, larger_only=True\n",
    ")\n",
    "\n",
    "mapping = ips.geometry.BarycenterMapping(data=None)\n",
    "temperature_oszillator = ips.calculators.TemperatureOscillatingRampModifier(\n",
    "    end_temperature=450,  # boiling around 460\n",
    "    start_temperature=270,  # melting around 290\n",
    "    num_oscillations=10,\n",
    "    temperature_amplitude=150,\n",
    ")\n",
    "\n",
    "box_oszillator = ips.calculators.BoxOscillatingRampModifier(\n",
    "    cell_amplitude=1,\n",
    "    num_oscillations=3,\n",
    ")\n",
    "\n",
    "eq_box_oszillator = ips.calculators.BoxOscillatingRampModifier(\n",
    "    end_cell=16.511,\n",
    "    cell_amplitude=1,\n",
    "    num_oscillations=3,\n",
    ")"
   ]
  },
  {
   "cell_type": "markdown",
   "metadata": {},
   "source": [
    "# Initial Training Data"
   ]
  },
  {
   "cell_type": "code",
   "execution_count": 4,
   "metadata": {},
   "outputs": [],
   "source": [
    "with ips.Project(automatic_node_names=True) as project:\n",
    "    mol = ips.configuration_generation.SmilesToAtoms(smiles=\"CS(=O)C\")\n",
    "\n",
    "    # Create a box of atoms.\n",
    "    packmol = ips.configuration_generation.Packmol(\n",
    "        data=[mol.atoms], count=[38], density=1095.2\n",
    "    )\n",
    "\n",
    "    # Define the CP2K calculations\n",
    "    cp2k = ips.calculators.CP2KSinglePoint(\n",
    "        data=packmol.atoms,\n",
    "        cp2k_files=[\"BASIS_MOLOPT\", \"GTH_POTENTIALS\", \"dftd3.dat\"],\n",
    "        cp2k_shell=cp2k_shell,\n",
    "    )\n",
    "\n",
    "    geopt = ips.calculators.ASEGeoOpt(\n",
    "        model=cp2k,\n",
    "        data=packmol.atoms,\n",
    "        optimizer=\"BFGS\",\n",
    "        run_kwargs={\"fmax\": 0.5},\n",
    "    )\n",
    "\n",
    "    test_selection = ips.configuration_selection.RandomSelection(\n",
    "        data=geopt.atoms, n_configurations=20\n",
    "    )\n",
    "\n",
    "    train_data = test_selection.excluded_atoms\n",
    "    test_data = test_selection.atoms"
   ]
  },
  {
   "cell_type": "markdown",
   "metadata": {},
   "source": [
    "# First AL cycles"
   ]
  },
  {
   "cell_type": "code",
   "execution_count": 5,
   "metadata": {},
   "outputs": [],
   "source": [
    "models = []"
   ]
  },
  {
   "cell_type": "code",
   "execution_count": 6,
   "metadata": {},
   "outputs": [],
   "source": [
    "with project:\n",
    "    for cycle in range(6):\n",
    "        with project.group(f\"AL_{cycle}\") as group:\n",
    "\n",
    "            # Define the ML model\n",
    "            model1 = ips.models.Apax(\n",
    "                data=train_data,\n",
    "                validation_data=test_data,\n",
    "                config=\"config/apax_1.yaml\" if cycle < 5 else \"config/apax_3.yaml\",\n",
    "            )\n",
    "            model2 = ips.models.Apax(\n",
    "                data=train_data,\n",
    "                validation_data=test_data,\n",
    "                config=\"config/apax_2.yaml\" if cycle < 5 else \"config/apax_4.yaml\",\n",
    "            )\n",
    "\n",
    "            ensemble_model = ips.models.EnsembleModel(models=[model1, model2])\n",
    "\n",
    "            models.append(ensemble_model)\n",
    "\n",
    "            md = ips.calculators.ASEMD(\n",
    "                data=geopt.atoms,\n",
    "                data_id=-1,\n",
    "                model=ensemble_model,\n",
    "                thermostat=thermostat,\n",
    "                checker_list=[uncertainty_check],\n",
    "                steps=50000,\n",
    "                sampling_rate=1,\n",
    "            )\n",
    "\n",
    "            train_data_selection = ips.configuration_selection.ThresholdSelection(\n",
    "                data=md, n_configurations=10, min_distance=10\n",
    "            )\n",
    "\n",
    "            test_data_selection = ips.configuration_selection.RandomSelection(\n",
    "                data=md,\n",
    "                n_configurations=5,\n",
    "                exclude_configurations=train_data_selection.selected_configurations,\n",
    "            )\n",
    "\n",
    "            train_data += ips.calculators.CP2KSinglePoint(\n",
    "                data=train_data_selection,\n",
    "                cp2k_files=[\"BASIS_MOLOPT\", \"GTH_POTENTIALS\", \"dftd3.dat\"],\n",
    "                cp2k_shell=cp2k_shell,\n",
    "                wfn_restart_node=cp2k,\n",
    "            ).atoms\n",
    "\n",
    "            test_data += ips.calculators.CP2KSinglePoint(\n",
    "                data=test_data_selection,\n",
    "                cp2k_files=[\"BASIS_MOLOPT\", \"GTH_POTENTIALS\", \"dftd3.dat\"],\n",
    "                cp2k_shell=cp2k_shell,\n",
    "                wfn_restart_node=cp2k,\n",
    "            ).atoms\n",
    "\n",
    "            md_forces_uncertainty = ips.analysis.ForcesUncertaintyHistogram(\n",
    "                data=md.atoms\n",
    "            )\n",
    "            md_energy_uncertainty = ips.analysis.EnergyUncertaintyHistogram(\n",
    "                data=md.atoms\n",
    "            )"
   ]
  },
  {
   "cell_type": "markdown",
   "metadata": {},
   "source": [
    "# Bootstrap Data"
   ]
  },
  {
   "cell_type": "code",
   "execution_count": 7,
   "metadata": {},
   "outputs": [],
   "source": [
    "with project:\n",
    "    with project.group(\"bootstrap_0\") as group:\n",
    "        bootstrap_train_data = (\n",
    "            ips.bootstrap.RotateMolecules(\n",
    "                data=geopt.atoms,\n",
    "                data_id=-1,\n",
    "                n_configurations=10,\n",
    "                maximum=10 * 3.1415 / 180,  # deg max rotation\n",
    "                include_original=False,\n",
    "                seed=1,\n",
    "            ).atoms\n",
    "            + ips.bootstrap.TranslateMolecules(\n",
    "                data=geopt.atoms,\n",
    "                data_id=-1,\n",
    "                n_configurations=10,\n",
    "                maximum=0.2,  # Ang max molecular displacement\n",
    "                include_original=False,\n",
    "                seed=1,\n",
    "            ).atoms\n",
    "        )\n",
    "\n",
    "        bootstrap_test_data = (\n",
    "            ips.bootstrap.RotateMolecules(\n",
    "                data=geopt.atoms,\n",
    "                data_id=-1,\n",
    "                n_configurations=5,\n",
    "                maximum=10 * 3.1415 / 180,  # deg max rotation\n",
    "                include_original=False,\n",
    "                seed=2,\n",
    "                name=\"RotateMolecules_test\",\n",
    "            ).atoms\n",
    "            + ips.bootstrap.TranslateMolecules(\n",
    "                data=geopt.atoms,\n",
    "                data_id=-1,\n",
    "                n_configurations=5,\n",
    "                maximum=0.2,  # Ang max molecular displacement\n",
    "                include_original=False,\n",
    "                seed=2,\n",
    "                name=\"TranslateMolecules_test\",\n",
    "            ).atoms\n",
    "        )\n",
    "\n",
    "        train_data += ips.calculators.CP2KSinglePoint(\n",
    "            data=bootstrap_train_data,\n",
    "            cp2k_files=[\"BASIS_MOLOPT\", \"GTH_POTENTIALS\", \"dftd3.dat\"],\n",
    "            cp2k_shell=cp2k_shell,\n",
    "            wfn_restart_node=cp2k,\n",
    "        ).atoms\n",
    "\n",
    "        test_data += ips.calculators.CP2KSinglePoint(\n",
    "            data=bootstrap_test_data,\n",
    "            cp2k_files=[\"BASIS_MOLOPT\", \"GTH_POTENTIALS\", \"dftd3.dat\"],\n",
    "            cp2k_shell=cp2k_shell,\n",
    "            wfn_restart_node=cp2k,\n",
    "        ).atoms\n",
    "\n",
    "        model1 = ips.models.Apax(\n",
    "            data=train_data,\n",
    "            validation_data=test_data,\n",
    "            config=\"config/apax_3.yaml\",\n",
    "        )\n",
    "        model2 = ips.models.Apax(\n",
    "            data=train_data,\n",
    "            validation_data=test_data,\n",
    "            config=\"config/apax_4.yaml\",\n",
    "        )\n",
    "\n",
    "        ensemble_model = ips.models.EnsembleModel(models=[model1, model2])\n",
    "\n",
    "        models.append(ensemble_model)"
   ]
  },
  {
   "cell_type": "markdown",
   "metadata": {},
   "source": [
    "# Volume Scans"
   ]
  },
  {
   "cell_type": "code",
   "execution_count": 8,
   "metadata": {},
   "outputs": [],
   "source": [
    "with project:\n",
    "    with project.group(\"volume_scan\") as volume_scans:\n",
    "        vs_md = ips.calculators.ASEMD(\n",
    "            data=geopt.atoms,\n",
    "            data_id=-1,\n",
    "            model=ensemble_model,\n",
    "            thermostat=thermostat,\n",
    "            checker_list=[uncertainty_check],\n",
    "            steps=250,\n",
    "            sampling_rate=10,\n",
    "        )\n",
    "\n",
    "        volume_scan = ips.analysis.BoxScale(\n",
    "            data=vs_md.atoms,\n",
    "            mapping=mapping,\n",
    "            model=ensemble_model,\n",
    "            start=0.9,\n",
    "            stop=1.7,\n",
    "            num=50,\n",
    "            data_id=-1,\n",
    "        )\n",
    "\n",
    "        vs_cp2k = ips.calculators.CP2KSinglePoint(\n",
    "            data=volume_scan.atoms,\n",
    "            cp2k_files=[\"BASIS_MOLOPT\", \"GTH_POTENTIALS\", \"dftd3.dat\"],\n",
    "            cp2k_shell=\"cp2k_shell.ssmp\",\n",
    "            wfn_restart_node=cp2k,\n",
    "        )"
   ]
  },
  {
   "cell_type": "markdown",
   "metadata": {},
   "source": [
    "# Biased MD"
   ]
  },
  {
   "cell_type": "code",
   "execution_count": 9,
   "metadata": {},
   "outputs": [],
   "source": [
    "with project:\n",
    "    with project.group(\"bootstrap_1\") as group:\n",
    "        md = ips.calculators.ASEMD(\n",
    "            data=geopt.atoms,\n",
    "            data_id=-1,\n",
    "            model=ensemble_model,\n",
    "            thermostat=thermostat,\n",
    "            checker_list=[uncertainty_check],\n",
    "            modifier=[temperature_oszillator, box_oszillator],\n",
    "            steps=10000,\n",
    "            sampling_rate=100,\n",
    "        )\n",
    "\n",
    "        train_data_selection_1 = ips.configuration_selection.ThresholdSelection(\n",
    "            data=md, n_configurations=20, min_distance=10\n",
    "        )\n",
    "        train_data_selection_2 = ips.configuration_selection.RandomSelection(\n",
    "            data=train_data_selection_1.excluded_atoms, n_configurations=80\n",
    "        )\n",
    "        test_data_selection = ips.configuration_selection.RandomSelection(\n",
    "            data=train_data_selection_2.excluded_atoms, n_configurations=20\n",
    "        )\n",
    "\n",
    "        train_data += ips.calculators.CP2KSinglePoint(\n",
    "            data=train_data_selection_1.atoms + train_data_selection_2.atoms,\n",
    "            cp2k_files=[\"BASIS_MOLOPT\", \"GTH_POTENTIALS\", \"dftd3.dat\"],\n",
    "            cp2k_shell=cp2k_shell,\n",
    "            wfn_restart_node=cp2k,\n",
    "        ).atoms\n",
    "\n",
    "        test_data += ips.calculators.CP2KSinglePoint(\n",
    "            data=test_data_selection.atoms,\n",
    "            cp2k_files=[\"BASIS_MOLOPT\", \"GTH_POTENTIALS\", \"dftd3.dat\"],\n",
    "            cp2k_shell=cp2k_shell,\n",
    "            wfn_restart_node=cp2k,\n",
    "        ).atoms"
   ]
  },
  {
   "cell_type": "markdown",
   "metadata": {},
   "source": [
    "# More AL"
   ]
  },
  {
   "cell_type": "code",
   "execution_count": 10,
   "metadata": {},
   "outputs": [],
   "source": [
    "def remove_fused_molecules(train_data, test_data):\n",
    "    train_data = ips.configuration_selection.IndexSelection(data= train_data, indices=slice(10, -1)).atoms\n",
    "    test_data = ips.configuration_selection.IndexSelection(data= test_data, indices=slice(4, -1)).atoms\n",
    "    return train_data, test_data"
   ]
  },
  {
   "cell_type": "code",
   "execution_count": 11,
   "metadata": {},
   "outputs": [],
   "source": [
    "with project:\n",
    "    for cycle in range(7):\n",
    "        with project.group(f\"AL2_{cycle}\") as al2_group:\n",
    "            if cycle == 2:\n",
    "                # remove fused molecules\n",
    "                train_data, test_data = remove_fused_molecules(train_data, test_data)\n",
    "\n",
    "            model1 = ips.models.Apax(\n",
    "                data=train_data,\n",
    "                validation_data=test_data,\n",
    "                config=\"config/apax_al2_1.yaml\",\n",
    "            )\n",
    "            model2 = ips.models.Apax(\n",
    "                data=train_data,\n",
    "                validation_data=test_data,\n",
    "                config=\"config/apax_al2_2.yaml\",\n",
    "            )\n",
    "\n",
    "            ensemble_model = ips.models.ApaxEnsemble(models=[model1, model2])\n",
    "\n",
    "            models.append(ensemble_model)\n",
    "\n",
    "            # evaluate the model\n",
    "            prediction = ips.analysis.Prediction(model=ensemble_model, data=test_data)\n",
    "            metrics = ips.analysis.PredictionMetrics(data=prediction)\n",
    "            force_decomposition = ips.analysis.ForceDecomposition(data=prediction)\n",
    "\n",
    "            # get starting structure\n",
    "            model_geopt = ips.calculators.ASEGeoOpt(\n",
    "                model=ensemble_model,\n",
    "                data=md.atoms,\n",
    "                data_id=-5 if cycle > 1 else -1,\n",
    "                optimizer=\"BFGS\",\n",
    "                run_kwargs={\"fmax\": 1.0 if cycle > 1 else 0.5},\n",
    "                checker_list=[uncertainty_check] if cycle > 1 else None,\n",
    "            )\n",
    "\n",
    "            ref_geopt = ips.calculators.ASEGeoOpt(\n",
    "                model=cp2k,\n",
    "                data=model_geopt.atoms,\n",
    "                data_id=-1,\n",
    "                optimizer=\"BFGS\",\n",
    "                run_kwargs={\"fmax\": 2.0 if cycle > 1 else 1.0},\n",
    "            )\n",
    "\n",
    "            md = ips.calculators.ASEMD(\n",
    "                data=ref_geopt.atoms if cycle > 1 else md.atoms,\n",
    "                data_id=-1,\n",
    "                model=ensemble_model,\n",
    "                thermostat=thermostat,\n",
    "                checker_list=[uncertainty_check],\n",
    "                modifier=[temperature_oszillator, eq_box_oszillator if cycle > 1 else box_oszillator],\n",
    "                steps=1_000_000,\n",
    "                sampling_rate=40 if cycle > 1 else 100,\n",
    "            )\n",
    "\n",
    "            if cycle > 1:\n",
    "                # throw out last atoms from ASEMD\n",
    "                md = ips.configuration_selection.IndexSelection(data=md.atoms, indices=slice(0, -1))\n",
    "\n",
    "            train_data_selection = ips.configuration_selection.ThresholdSelection(\n",
    "                data=md, n_configurations=20, min_distance=20\n",
    "            )\n",
    "\n",
    "            test_data_selection = ips.configuration_selection.RandomSelection(\n",
    "                data=md,\n",
    "                n_configurations=5,\n",
    "                exclude_configurations=train_data_selection.selected_configurations,\n",
    "            )\n",
    "\n",
    "            train_data += ref_geopt.atoms\n",
    "            train_data += ips.calculators.CP2KSinglePoint(\n",
    "                data=train_data_selection.atoms,\n",
    "                cp2k_files=[\"BASIS_MOLOPT\", \"GTH_POTENTIALS\", \"dftd3.dat\"],\n",
    "                cp2k_shell=cp2k_shell,\n",
    "                wfn_restart_node=None if cycle > 1 else cp2k,\n",
    "            ).atoms\n",
    "\n",
    "            test_data += ips.calculators.CP2KSinglePoint(\n",
    "                data=test_data_selection.atoms,\n",
    "                cp2k_files=[\"BASIS_MOLOPT\", \"GTH_POTENTIALS\", \"dftd3.dat\"],\n",
    "                cp2k_shell=cp2k_shell,\n",
    "                wfn_restart_node=None if cycle > 1 else cp2k,\n",
    "            ).atoms"
   ]
  },
  {
   "cell_type": "markdown",
   "metadata": {},
   "source": [
    "# Isolated Structure Generation"
   ]
  },
  {
   "cell_type": "code",
   "execution_count": 12,
   "metadata": {},
   "outputs": [],
   "source": [
    "with project:\n",
    "    with project.group(\"isolated_mol\") as group:\n",
    "        conformers = ips.configuration_generation.SmilesToConformers(smiles=\"CS(=O)C\", numConfs=200)\n",
    "        isolated_mol_cp2k = ips.calculators.CP2KSinglePoint(\n",
    "            data=conformers.atoms,\n",
    "            cp2k_files=[\"BASIS_MOLOPT\", \"GTH_POTENTIALS\", \"dftd3.dat\"],\n",
    "            cp2k_shell=cp2k_shell,\n",
    "        )"
   ]
  },
  {
   "cell_type": "markdown",
   "metadata": {},
   "source": [
    "# AL evaluation"
   ]
  },
  {
   "cell_type": "code",
   "execution_count": 13,
   "metadata": {},
   "outputs": [],
   "source": [
    "with project:\n",
    "    with project.group(\"evaluation\") as evaluation:\n",
    "        for model in models:\n",
    "            prediction = ips.analysis.Prediction(model=model, data=test_data)\n",
    "            metrics = ips.analysis.PredictionMetrics(data=prediction)\n",
    "\n",
    "            # force_decomposition = ips.analysis.ForceDecomposition(data=prediction)\n",
    "            volume_scan = ips.analysis.BoxScale(\n",
    "                data=vs_md.atoms,\n",
    "                mapping=mapping,\n",
    "                model=model,\n",
    "                start=0.9,\n",
    "                stop=1.7,\n",
    "                num=50,\n",
    "                data_id=-1,\n",
    "            )"
   ]
  },
  {
   "cell_type": "markdown",
   "metadata": {},
   "source": [
    "# Final Model"
   ]
  },
  {
   "cell_type": "code",
   "execution_count": 14,
   "metadata": {},
   "outputs": [],
   "source": [
    "with project:\n",
    "    with project.group(\"final\") as final:\n",
    "        model = ips.models.Apax(\n",
    "            data=train_data,\n",
    "            validation_data=test_data,\n",
    "            config=\"config/apax_final.yaml\",\n",
    "        )\n",
    "        # evaluate the model\n",
    "        prediction = ips.analysis.Prediction(model=model, data=test_data)\n",
    "        metrics = ips.analysis.PredictionMetrics(data=prediction)\n",
    "\n",
    "        force_decomposition = ips.analysis.ForceDecomposition(data=prediction)\n",
    "        volume_scan = ips.analysis.BoxScale(\n",
    "            data=geopt.atoms, mapping=mapping, model=model, start=0.9, data_id=-1\n",
    "        )"
   ]
  },
  {
   "cell_type": "markdown",
   "metadata": {},
   "source": [
    "# Build the graph"
   ]
  },
  {
   "cell_type": "code",
   "execution_count": 15,
   "metadata": {},
   "outputs": [
    {
     "name": "stderr",
     "output_type": "stream",
     "text": [
      "Running DVC command: 'stage add --name evaluation_Prediction --force ...'\n",
      "\u0000Running DVC command: 'stage add --name evaluation_PredictionMetrics --force ...'\n"
     ]
    },
    {
     "name": "stdout",
     "output_type": "stream",
     "text": [
      "\u0000"
     ]
    },
    {
     "name": "stderr",
     "output_type": "stream",
     "text": [
      "\u0000Running DVC command: 'stage add --name evaluation_BoxScale --force ...'\n"
     ]
    },
    {
     "name": "stdout",
     "output_type": "stream",
     "text": [
      "\u0000"
     ]
    },
    {
     "name": "stderr",
     "output_type": "stream",
     "text": [
      "Running DVC command: 'stage add --name evaluation_BoxScale_mapping --force ...'\n",
      "\u0000"
     ]
    },
    {
     "name": "stdout",
     "output_type": "stream",
     "text": [
      "\u0000"
     ]
    },
    {
     "name": "stderr",
     "output_type": "stream",
     "text": [
      "\u0000"
     ]
    },
    {
     "name": "stdout",
     "output_type": "stream",
     "text": [
      "\u0000"
     ]
    },
    {
     "name": "stderr",
     "output_type": "stream",
     "text": [
      "Running DVC command: 'stage add --name evaluation_Prediction_1 --force ...'\n",
      "\u0000Running DVC command: 'stage add --name evaluation_PredictionMetrics_1 --force ...'\n"
     ]
    },
    {
     "name": "stdout",
     "output_type": "stream",
     "text": [
      "\u0000"
     ]
    },
    {
     "name": "stderr",
     "output_type": "stream",
     "text": [
      "\u0000Running DVC command: 'stage add --name evaluation_BoxScale_1 --force ...'\n"
     ]
    },
    {
     "name": "stdout",
     "output_type": "stream",
     "text": [
      "\u0000"
     ]
    },
    {
     "name": "stderr",
     "output_type": "stream",
     "text": [
      "Running DVC command: 'stage add --name evaluation_BoxScale_1_mapping --force ...'\n",
      "\u0000"
     ]
    },
    {
     "name": "stdout",
     "output_type": "stream",
     "text": [
      "\u0000\u0000"
     ]
    },
    {
     "name": "stderr",
     "output_type": "stream",
     "text": [
      "\u0000Running DVC command: 'stage add --name evaluation_Prediction_2 --force ...'\n",
      "\u0000Running DVC command: 'stage add --name evaluation_PredictionMetrics_2 --force ...'\n"
     ]
    },
    {
     "name": "stdout",
     "output_type": "stream",
     "text": [
      "\u0000"
     ]
    },
    {
     "name": "stderr",
     "output_type": "stream",
     "text": [
      "\u0000Running DVC command: 'stage add --name evaluation_BoxScale_2 --force ...'\n"
     ]
    },
    {
     "name": "stdout",
     "output_type": "stream",
     "text": [
      "\u0000"
     ]
    },
    {
     "name": "stderr",
     "output_type": "stream",
     "text": [
      "Running DVC command: 'stage add --name evaluation_BoxScale_2_mapping --force ...'\n",
      "\u0000"
     ]
    },
    {
     "name": "stdout",
     "output_type": "stream",
     "text": [
      "\u0000\u0000"
     ]
    },
    {
     "name": "stderr",
     "output_type": "stream",
     "text": [
      "\u0000Running DVC command: 'stage add --name evaluation_Prediction_3 --force ...'\n",
      "\u0000Running DVC command: 'stage add --name evaluation_PredictionMetrics_3 --force ...'\n"
     ]
    },
    {
     "name": "stdout",
     "output_type": "stream",
     "text": [
      "\u0000"
     ]
    },
    {
     "name": "stderr",
     "output_type": "stream",
     "text": [
      "\u0000Running DVC command: 'stage add --name evaluation_BoxScale_3 --force ...'\n"
     ]
    },
    {
     "name": "stdout",
     "output_type": "stream",
     "text": [
      "\u0000"
     ]
    },
    {
     "name": "stderr",
     "output_type": "stream",
     "text": [
      "Running DVC command: 'stage add --name evaluation_BoxScale_3_mapping --force ...'\n",
      "\u0000"
     ]
    },
    {
     "name": "stdout",
     "output_type": "stream",
     "text": [
      "\u0000\u0000"
     ]
    },
    {
     "name": "stderr",
     "output_type": "stream",
     "text": [
      "\u0000Running DVC command: 'stage add --name evaluation_Prediction_4 --force ...'\n",
      "\u0000Running DVC command: 'stage add --name evaluation_PredictionMetrics_4 --force ...'\n"
     ]
    },
    {
     "name": "stdout",
     "output_type": "stream",
     "text": [
      "\u0000"
     ]
    },
    {
     "name": "stderr",
     "output_type": "stream",
     "text": [
      "\u0000Running DVC command: 'stage add --name evaluation_BoxScale_4 --force ...'\n"
     ]
    },
    {
     "name": "stdout",
     "output_type": "stream",
     "text": [
      "\u0000"
     ]
    },
    {
     "name": "stderr",
     "output_type": "stream",
     "text": [
      "Running DVC command: 'stage add --name evaluation_BoxScale_4_mapping --force ...'\n",
      "\u0000"
     ]
    },
    {
     "name": "stdout",
     "output_type": "stream",
     "text": [
      "\u0000"
     ]
    },
    {
     "name": "stderr",
     "output_type": "stream",
     "text": [
      "\u0000"
     ]
    },
    {
     "name": "stdout",
     "output_type": "stream",
     "text": [
      "\u0000"
     ]
    },
    {
     "name": "stderr",
     "output_type": "stream",
     "text": [
      "Running DVC command: 'stage add --name evaluation_Prediction_5 --force ...'\n",
      "\u0000Running DVC command: 'stage add --name evaluation_PredictionMetrics_5 --force ...'\n"
     ]
    },
    {
     "name": "stdout",
     "output_type": "stream",
     "text": [
      "\u0000"
     ]
    },
    {
     "name": "stderr",
     "output_type": "stream",
     "text": [
      "\u0000Running DVC command: 'stage add --name evaluation_BoxScale_5 --force ...'\n"
     ]
    },
    {
     "name": "stdout",
     "output_type": "stream",
     "text": [
      "\u0000"
     ]
    },
    {
     "name": "stderr",
     "output_type": "stream",
     "text": [
      "Running DVC command: 'stage add --name evaluation_BoxScale_5_mapping --force ...'\n",
      "\u0000"
     ]
    },
    {
     "name": "stdout",
     "output_type": "stream",
     "text": [
      "\u0000\u0000"
     ]
    },
    {
     "name": "stderr",
     "output_type": "stream",
     "text": [
      "\u0000Running DVC command: 'stage add --name evaluation_Prediction_6 --force ...'\n",
      "\u0000Running DVC command: 'stage add --name evaluation_PredictionMetrics_6 --force ...'\n"
     ]
    },
    {
     "name": "stdout",
     "output_type": "stream",
     "text": [
      "\u0000"
     ]
    },
    {
     "name": "stderr",
     "output_type": "stream",
     "text": [
      "\u0000Running DVC command: 'stage add --name evaluation_BoxScale_6 --force ...'\n"
     ]
    },
    {
     "name": "stdout",
     "output_type": "stream",
     "text": [
      "\u0000"
     ]
    },
    {
     "name": "stderr",
     "output_type": "stream",
     "text": [
      "Running DVC command: 'stage add --name evaluation_BoxScale_6_mapping --force ...'\n",
      "\u0000"
     ]
    },
    {
     "name": "stdout",
     "output_type": "stream",
     "text": [
      "\u0000\u0000"
     ]
    },
    {
     "name": "stderr",
     "output_type": "stream",
     "text": [
      "\u0000Running DVC command: 'stage add --name evaluation_Prediction_7 --force ...'\n",
      "\u0000Running DVC command: 'stage add --name evaluation_PredictionMetrics_7 --force ...'\n"
     ]
    },
    {
     "name": "stdout",
     "output_type": "stream",
     "text": [
      "\u0000"
     ]
    },
    {
     "name": "stderr",
     "output_type": "stream",
     "text": [
      "\u0000Running DVC command: 'stage add --name evaluation_BoxScale_7 --force ...'\n"
     ]
    },
    {
     "name": "stdout",
     "output_type": "stream",
     "text": [
      "\u0000"
     ]
    },
    {
     "name": "stderr",
     "output_type": "stream",
     "text": [
      "Running DVC command: 'stage add --name evaluation_BoxScale_7_mapping --force ...'\n",
      "\u0000"
     ]
    },
    {
     "name": "stdout",
     "output_type": "stream",
     "text": [
      "\u0000"
     ]
    },
    {
     "name": "stderr",
     "output_type": "stream",
     "text": [
      "\u0000"
     ]
    },
    {
     "name": "stdout",
     "output_type": "stream",
     "text": [
      "\u0000"
     ]
    },
    {
     "name": "stderr",
     "output_type": "stream",
     "text": [
      "Running DVC command: 'stage add --name evaluation_Prediction_8 --force ...'\n",
      "\u0000Running DVC command: 'stage add --name evaluation_PredictionMetrics_8 --force ...'\n"
     ]
    },
    {
     "name": "stdout",
     "output_type": "stream",
     "text": [
      "\u0000"
     ]
    },
    {
     "name": "stderr",
     "output_type": "stream",
     "text": [
      "\u0000Running DVC command: 'stage add --name evaluation_BoxScale_8 --force ...'\n"
     ]
    },
    {
     "name": "stdout",
     "output_type": "stream",
     "text": [
      "\u0000"
     ]
    },
    {
     "name": "stderr",
     "output_type": "stream",
     "text": [
      "Running DVC command: 'stage add --name evaluation_BoxScale_8_mapping --force ...'\n",
      "\u0000"
     ]
    },
    {
     "name": "stdout",
     "output_type": "stream",
     "text": [
      "\u0000"
     ]
    },
    {
     "name": "stderr",
     "output_type": "stream",
     "text": [
      "\u0000"
     ]
    },
    {
     "name": "stdout",
     "output_type": "stream",
     "text": [
      "\u0000"
     ]
    },
    {
     "name": "stderr",
     "output_type": "stream",
     "text": [
      "Running DVC command: 'stage add --name evaluation_Prediction_9 --force ...'\n",
      "\u0000Running DVC command: 'stage add --name evaluation_PredictionMetrics_9 --force ...'\n"
     ]
    },
    {
     "name": "stdout",
     "output_type": "stream",
     "text": [
      "\u0000"
     ]
    },
    {
     "name": "stderr",
     "output_type": "stream",
     "text": [
      "\u0000Running DVC command: 'stage add --name evaluation_BoxScale_9 --force ...'\n"
     ]
    },
    {
     "name": "stdout",
     "output_type": "stream",
     "text": [
      "\u0000"
     ]
    },
    {
     "name": "stderr",
     "output_type": "stream",
     "text": [
      "Running DVC command: 'stage add --name evaluation_BoxScale_9_mapping --force ...'\n",
      "\u0000"
     ]
    },
    {
     "name": "stdout",
     "output_type": "stream",
     "text": [
      "\u0000\u0000"
     ]
    },
    {
     "name": "stderr",
     "output_type": "stream",
     "text": [
      "\u0000Running DVC command: 'stage add --name evaluation_Prediction_10 --force ...'\n",
      "\u0000Running DVC command: 'stage add --name evaluation_PredictionMetrics_10 --force ...'\n"
     ]
    },
    {
     "name": "stdout",
     "output_type": "stream",
     "text": [
      "\u0000"
     ]
    },
    {
     "name": "stderr",
     "output_type": "stream",
     "text": [
      "\u0000Running DVC command: 'stage add --name evaluation_BoxScale_10 --force ...'\n"
     ]
    },
    {
     "name": "stdout",
     "output_type": "stream",
     "text": [
      "\u0000"
     ]
    },
    {
     "name": "stderr",
     "output_type": "stream",
     "text": [
      "Running DVC command: 'stage add --name evaluation_BoxScale_10_mapping --force ...'\n",
      "\u0000"
     ]
    },
    {
     "name": "stdout",
     "output_type": "stream",
     "text": [
      "\u0000"
     ]
    },
    {
     "name": "stderr",
     "output_type": "stream",
     "text": [
      "\u0000"
     ]
    },
    {
     "name": "stdout",
     "output_type": "stream",
     "text": [
      "\u0000"
     ]
    }
   ],
   "source": [
    "project.build(nodes=[evaluation])"
   ]
  },
  {
   "cell_type": "code",
   "execution_count": null,
   "metadata": {},
   "outputs": [],
   "source": []
  }
 ],
 "metadata": {
  "kernelspec": {
   "display_name": "ipsuite",
   "language": "python",
   "name": "python3"
  },
  "language_info": {
   "codemirror_mode": {
    "name": "ipython",
    "version": 3
   },
   "file_extension": ".py",
   "mimetype": "text/x-python",
   "name": "python",
   "nbconvert_exporter": "python",
   "pygments_lexer": "ipython3",
   "version": "3.10.9"
  },
  "orig_nbformat": 4
 },
 "nbformat": 4,
 "nbformat_minor": 2
}
