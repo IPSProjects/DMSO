{
 "cells": [
  {
   "cell_type": "code",
   "execution_count": 1,
   "metadata": {},
   "outputs": [
    {
     "name": "stdout",
     "output_type": "stream",
     "text": [
      "2023-08-03 10:29:58,389 (DEBUG): Welcome to IPS - the Interatomic Potential Suite!\n"
     ]
    }
   ],
   "source": [
    "import ipsuite as ips"
   ]
  },
  {
   "cell_type": "markdown",
   "metadata": {},
   "source": [
    "DFT based on https://www.sciencedirect.com/science/article/pii/S1386142521004455#b0030"
   ]
  },
  {
   "cell_type": "code",
   "execution_count": 2,
   "metadata": {},
   "outputs": [
    {
     "name": "stderr",
     "output_type": "stream",
     "text": [
      "Running DVC command: 'stage add --name ALEvaluation_Prediction --force ...'\n",
      "\u0000Running DVC command: 'stage add --name ALEvaluation_PredictionMetrics --force ...'\n"
     ]
    },
    {
     "name": "stdout",
     "output_type": "stream",
     "text": [
      "\u0000"
     ]
    },
    {
     "name": "stderr",
     "output_type": "stream",
     "text": [
      "\u0000Running DVC command: 'stage add --name ALEvaluation_Prediction_1 --force ...'\n"
     ]
    },
    {
     "name": "stdout",
     "output_type": "stream",
     "text": [
      "\u0000"
     ]
    },
    {
     "name": "stderr",
     "output_type": "stream",
     "text": [
      "\u0000Running DVC command: 'stage add --name ALEvaluation_PredictionMetrics_1 --force ...'\n"
     ]
    },
    {
     "name": "stdout",
     "output_type": "stream",
     "text": [
      "\u0000"
     ]
    },
    {
     "name": "stderr",
     "output_type": "stream",
     "text": [
      "\u0000Running DVC command: 'stage add --name ALEvaluation_Prediction_2 --force ...'\n"
     ]
    },
    {
     "name": "stdout",
     "output_type": "stream",
     "text": [
      "\u0000"
     ]
    },
    {
     "name": "stderr",
     "output_type": "stream",
     "text": [
      "\u0000Running DVC command: 'stage add --name ALEvaluation_PredictionMetrics_2 --force ...'\n"
     ]
    },
    {
     "name": "stdout",
     "output_type": "stream",
     "text": [
      "\u0000"
     ]
    },
    {
     "name": "stderr",
     "output_type": "stream",
     "text": [
      "\u0000Running DVC command: 'stage add --name ALEvaluation_Prediction_3 --force ...'\n"
     ]
    },
    {
     "name": "stdout",
     "output_type": "stream",
     "text": [
      "\u0000"
     ]
    },
    {
     "name": "stderr",
     "output_type": "stream",
     "text": [
      "\u0000Running DVC command: 'stage add --name ALEvaluation_PredictionMetrics_3 --force ...'\n"
     ]
    },
    {
     "name": "stdout",
     "output_type": "stream",
     "text": [
      "\u0000"
     ]
    },
    {
     "name": "stderr",
     "output_type": "stream",
     "text": [
      "\u0000Running DVC command: 'stage add --name ALEvaluation_Prediction_4 --force ...'\n"
     ]
    },
    {
     "name": "stdout",
     "output_type": "stream",
     "text": [
      "\u0000"
     ]
    },
    {
     "name": "stderr",
     "output_type": "stream",
     "text": [
      "\u0000Running DVC command: 'stage add --name ALEvaluation_PredictionMetrics_4 --force ...'\n"
     ]
    },
    {
     "name": "stdout",
     "output_type": "stream",
     "text": [
      "\u0000"
     ]
    },
    {
     "name": "stderr",
     "output_type": "stream",
     "text": [
      "\u0000Running DVC command: 'stage add --name ALEvaluation_Prediction_5 --force ...'\n"
     ]
    },
    {
     "name": "stdout",
     "output_type": "stream",
     "text": [
      "\u0000"
     ]
    },
    {
     "name": "stderr",
     "output_type": "stream",
     "text": [
      "\u0000Running DVC command: 'stage add --name ALEvaluation_PredictionMetrics_5 --force ...'\n"
     ]
    },
    {
     "name": "stdout",
     "output_type": "stream",
     "text": [
      "\u0000\u0000"
     ]
    },
    {
     "name": "stderr",
     "output_type": "stream",
     "text": [
      "\u0000Running DVC command: 'stage add --name ALEvaluation_Prediction_6 --force ...'\n",
      "\u0000Running DVC command: 'stage add --name ALEvaluation_PredictionMetrics_6 --force ...'\n"
     ]
    },
    {
     "name": "stdout",
     "output_type": "stream",
     "text": [
      "\u0000"
     ]
    },
    {
     "name": "stderr",
     "output_type": "stream",
     "text": [
      "\u0000Running DVC command: 'stage add --name ALEvaluation_Prediction_7 --force ...'\n"
     ]
    },
    {
     "name": "stdout",
     "output_type": "stream",
     "text": [
      "\u0000"
     ]
    },
    {
     "name": "stderr",
     "output_type": "stream",
     "text": [
      "\u0000Running DVC command: 'stage add --name ALEvaluation_PredictionMetrics_7 --force ...'\n"
     ]
    },
    {
     "name": "stdout",
     "output_type": "stream",
     "text": [
      "\u0000\u0000"
     ]
    },
    {
     "name": "stderr",
     "output_type": "stream",
     "text": [
      "\u0000"
     ]
    }
   ],
   "source": [
    "thermostat = ips.calculators.LangevinThermostat(\n",
    "    temperature=298.15, friction=0.01, time_step=0.5\n",
    ")\n",
    "\n",
    "uncertainty_check = ips.analysis.ThresholdCheck(\n",
    "    value=\"energy_uncertainty\", max_value=2.0, larger_only=True\n",
    ")\n",
    "\n",
    "mapping = ips.geometry.BarycenterMapping(data=None)\n",
    "temperature_oszillator = ips.calculators.TemperatureOscillatingRampModifier(\n",
    "    end_temperature=450,  # boiling around 460\n",
    "    start_temperature=270,  # melting around 290\n",
    "    num_oscillations=10,\n",
    "    temperature_amplitude=150,\n",
    ")\n",
    "\n",
    "box_oszillator = ips.calculators.BoxOscillatingRampModifier(\n",
    "    cell_amplitude=1,\n",
    "    num_oscillations=3,\n",
    ")\n",
    "\n",
    "models = []\n",
    "\n",
    "with ips.Project(automatic_node_names=True) as project:\n",
    "    mol = ips.configuration_generation.SmilesToAtoms(smiles=\"CS(=O)C\")\n",
    "\n",
    "    # Create a box of atoms.\n",
    "    packmol = ips.configuration_generation.Packmol(\n",
    "        data=[mol.atoms], count=[38], density=1095.2\n",
    "    )\n",
    "\n",
    "    # Define the CP2K calculations\n",
    "    cp2k = ips.calculators.CP2KSinglePoint(\n",
    "        data=packmol.atoms,\n",
    "        cp2k_files=[\"BASIS_MOLOPT\", \"GTH_POTENTIALS\", \"dftd3.dat\"],\n",
    "        cp2k_shell=\"cp2k_shell.ssmp\",\n",
    "    )\n",
    "\n",
    "    geopt = ips.calculators.ASEGeoOpt(\n",
    "        model=cp2k,\n",
    "        data=packmol.atoms,\n",
    "        optimizer=\"BFGS\",\n",
    "        run_kwargs={\"fmax\": 0.5},\n",
    "    )\n",
    "\n",
    "    test_selection = ips.configuration_selection.RandomSelection(\n",
    "        data=geopt.atoms, n_configurations=20\n",
    "    )\n",
    "\n",
    "    train_data = test_selection.excluded_atoms\n",
    "    test_data = test_selection.atoms\n",
    "\n",
    "    for cycle in range(6):\n",
    "        with project.group(name=f\"AL_{cycle}\") as group:\n",
    "            # Define the ML model\n",
    "            model1 = ips.models.Apax(\n",
    "                data=train_data,\n",
    "                validation_data=test_data,\n",
    "                config=\"config/apax_1.yaml\" if cycle < 5 else \"config/apax_3.yaml\",\n",
    "            )\n",
    "            model2 = ips.models.Apax(\n",
    "                data=train_data,\n",
    "                validation_data=test_data,\n",
    "                config=\"config/apax_2.yaml\" if cycle < 5 else \"config/apax_4.yaml\",\n",
    "            )\n",
    "\n",
    "            ensemble_model = ips.models.EnsembleModel(models=[model1, model2])\n",
    "\n",
    "            models.append(ensemble_model)\n",
    "\n",
    "            md = ips.calculators.ASEMD(\n",
    "                data=geopt.atoms,\n",
    "                data_id=-1,\n",
    "                model=ensemble_model,\n",
    "                thermostat=thermostat,\n",
    "                checker_list=[uncertainty_check],\n",
    "                steps=50000,\n",
    "                sampling_rate=1,\n",
    "            )\n",
    "\n",
    "            train_data_selection = ips.configuration_selection.ThresholdSelection(\n",
    "                data=md, n_configurations=10, min_distance=10\n",
    "            )\n",
    "\n",
    "            test_data_selection = ips.configuration_selection.RandomSelection(\n",
    "                data=md,\n",
    "                n_configurations=5,\n",
    "                exclude_configurations=train_data_selection.selected_configurations,\n",
    "            )\n",
    "\n",
    "            # evaluate the model\n",
    "            prediction = ips.analysis.Prediction(model=ensemble_model, data=test_data)\n",
    "            metrics = ips.analysis.PredictionMetrics(data=prediction)\n",
    "            force_decomposition = ips.analysis.ForceDecomposition(data=prediction)\n",
    "\n",
    "            train_data += ips.calculators.CP2KSinglePoint(\n",
    "                data=train_data_selection,\n",
    "                cp2k_files=[\"BASIS_MOLOPT\", \"GTH_POTENTIALS\", \"dftd3.dat\"],\n",
    "                cp2k_shell=\"cp2k_shell.ssmp\",\n",
    "                wfn_restart_node=cp2k,\n",
    "            ).atoms\n",
    "\n",
    "            test_data += ips.calculators.CP2KSinglePoint(\n",
    "                data=test_data_selection,\n",
    "                cp2k_files=[\"BASIS_MOLOPT\", \"GTH_POTENTIALS\", \"dftd3.dat\"],\n",
    "                cp2k_shell=\"cp2k_shell.ssmp\",\n",
    "                wfn_restart_node=cp2k,\n",
    "            ).atoms\n",
    "\n",
    "            md_forces_uncertainty = ips.analysis.ForcesUncertaintyHistogram(\n",
    "                data=md.atoms\n",
    "            )\n",
    "            md_energy_uncertainty = ips.analysis.EnergyUncertaintyHistogram(\n",
    "                data=md.atoms\n",
    "            )\n",
    "\n",
    "            volume_scan = ips.analysis.BoxScale(\n",
    "                data=geopt.atoms,\n",
    "                mapping=mapping,\n",
    "                model=ensemble_model,\n",
    "                start=0.9,\n",
    "                data_id=-1,\n",
    "            )\n",
    "\n",
    "    with project.group(name=\"bootstrap_0\") as group:\n",
    "        bootstrap_train_data = (\n",
    "            ips.bootstrap.RotateMolecules(\n",
    "                data=geopt.atoms,\n",
    "                data_id=-1,\n",
    "                n_configurations=10,\n",
    "                maximum=10 * 3.1415 / 180,  # deg max rotation\n",
    "                include_original=False,\n",
    "                seed=1,\n",
    "            ).atoms\n",
    "            + ips.bootstrap.TranslateMolecules(\n",
    "                data=geopt.atoms,\n",
    "                data_id=-1,\n",
    "                n_configurations=10,\n",
    "                maximum=0.2,  # Ang max molecular displacement\n",
    "                include_original=False,\n",
    "                seed=1,\n",
    "            ).atoms\n",
    "        )\n",
    "\n",
    "        bootstrap_test_data = (\n",
    "            ips.bootstrap.RotateMolecules(\n",
    "                data=geopt.atoms,\n",
    "                data_id=-1,\n",
    "                n_configurations=5,\n",
    "                maximum=10 * 3.1415 / 180,  # deg max rotation\n",
    "                include_original=False,\n",
    "                seed=2,\n",
    "                name=\"RotateMolecules_test\",\n",
    "            ).atoms\n",
    "            + ips.bootstrap.TranslateMolecules(\n",
    "                data=geopt.atoms,\n",
    "                data_id=-1,\n",
    "                n_configurations=5,\n",
    "                maximum=0.2,  # Ang max molecular displacement\n",
    "                include_original=False,\n",
    "                seed=2,\n",
    "                name=\"TranslateMolecules_test\",\n",
    "            ).atoms\n",
    "        )\n",
    "\n",
    "        train_data += ips.calculators.CP2KSinglePoint(\n",
    "            data=bootstrap_train_data,\n",
    "            cp2k_files=[\"BASIS_MOLOPT\", \"GTH_POTENTIALS\", \"dftd3.dat\"],\n",
    "            cp2k_shell=\"cp2k_shell.ssmp\",\n",
    "            wfn_restart_node=cp2k,\n",
    "        ).atoms\n",
    "\n",
    "        test_data += ips.calculators.CP2KSinglePoint(\n",
    "            data=bootstrap_test_data,\n",
    "            cp2k_files=[\"BASIS_MOLOPT\", \"GTH_POTENTIALS\", \"dftd3.dat\"],\n",
    "            cp2k_shell=\"cp2k_shell.ssmp\",\n",
    "            wfn_restart_node=cp2k,\n",
    "        ).atoms\n",
    "\n",
    "        model1 = ips.models.Apax(\n",
    "            data=train_data,\n",
    "            validation_data=test_data,\n",
    "            config=\"config/apax_3.yaml\",\n",
    "        )\n",
    "        model2 = ips.models.Apax(\n",
    "            data=train_data,\n",
    "            validation_data=test_data,\n",
    "            config=\"config/apax_4.yaml\",\n",
    "        )\n",
    "\n",
    "        ensemble_model = ips.models.EnsembleModel(models=[model1, model2])\n",
    "\n",
    "        models.append(ensemble_model)\n",
    "\n",
    "        # md = ips.calculators.ASEMD(\n",
    "        #         data=geopt.atoms,\n",
    "        #         data_id=-1,\n",
    "        #         model=ensemble_model,\n",
    "        #         thermostat=thermostat,\n",
    "        #         checker_list=[uncertainty_check],\n",
    "        #         steps=50000,\n",
    "        #         sampling_rate=100,\n",
    "        #     )\n",
    "\n",
    "        # evaluate the model\n",
    "        prediction = ips.analysis.Prediction(model=ensemble_model, data=test_data)\n",
    "        metrics = ips.analysis.PredictionMetrics(data=prediction)\n",
    "\n",
    "        force_decomposition = ips.analysis.ForceDecomposition(data=prediction)\n",
    "        volume_scan = ips.analysis.BoxScale(\n",
    "            data=geopt.atoms,\n",
    "            mapping=mapping,\n",
    "            model=ensemble_model,\n",
    "            start=0.9,\n",
    "            data_id=-1,\n",
    "        )\n",
    "\n",
    "    with project.group(name=\"bootstrap_1\") as group:\n",
    "        md = ips.calculators.ASEMD(\n",
    "            data=geopt.atoms,\n",
    "            data_id=-1,\n",
    "            model=ensemble_model,\n",
    "            thermostat=thermostat,\n",
    "            checker_list=[uncertainty_check],\n",
    "            modifier=[temperature_oszillator, box_oszillator],\n",
    "            steps=10000,\n",
    "            sampling_rate=100,\n",
    "        )\n",
    "\n",
    "        train_data_selection_1 = ips.configuration_selection.ThresholdSelection(\n",
    "            data=md, n_configurations=20, min_distance=10\n",
    "        )\n",
    "        train_data_selection_2 = ips.configuration_selection.RandomSelection(\n",
    "            data=train_data_selection_1.excluded_atoms, n_configurations=80\n",
    "        )\n",
    "        test_data_selection = ips.configuration_selection.RandomSelection(\n",
    "            data=train_data_selection_2.excluded_atoms, n_configurations=20\n",
    "        )\n",
    "\n",
    "        train_data += ips.calculators.CP2KSinglePoint(\n",
    "            data=train_data_selection_1.atoms + train_data_selection_2.atoms,\n",
    "            cp2k_files=[\"BASIS_MOLOPT\", \"GTH_POTENTIALS\", \"dftd3.dat\"],\n",
    "            cp2k_shell=\"cp2k_shell.ssmp\",\n",
    "            wfn_restart_node=cp2k,\n",
    "        ).atoms\n",
    "\n",
    "        test_data += ips.calculators.CP2KSinglePoint(\n",
    "            data=test_data_selection.atoms,\n",
    "            cp2k_files=[\"BASIS_MOLOPT\", \"GTH_POTENTIALS\", \"dftd3.dat\"],\n",
    "            cp2k_shell=\"cp2k_shell.ssmp\",\n",
    "            wfn_restart_node=cp2k,\n",
    "        ).atoms\n",
    "\n",
    "    with project.group(name=\"volume_scan\") as group:\n",
    "        md = ips.calculators.ASEMD(\n",
    "            data=geopt.atoms,\n",
    "            data_id=-1,\n",
    "            model=ensemble_model,\n",
    "            thermostat=thermostat,\n",
    "            checker_list=[uncertainty_check],\n",
    "            steps=250,\n",
    "            sampling_rate=10,\n",
    "        )\n",
    "\n",
    "        volume_scan = ips.analysis.BoxScale(\n",
    "            data=md.atoms,\n",
    "            mapping=mapping,\n",
    "            model=ensemble_model,\n",
    "            start=0.9,\n",
    "            stop=1.7,\n",
    "            num=50,\n",
    "            data_id=-1,\n",
    "        )\n",
    "\n",
    "        vs_cp2k = ips.calculators.CP2KSinglePoint(\n",
    "            data=volume_scan.atoms,\n",
    "            cp2k_files=[\"BASIS_MOLOPT\", \"GTH_POTENTIALS\", \"dftd3.dat\"],\n",
    "            cp2k_shell=\"cp2k_shell.ssmp\",\n",
    "            wfn_restart_node=cp2k,\n",
    "        )\n",
    "\n",
    "    with project.group(name=\"final\") as final:\n",
    "        model = ips.models.Apax(\n",
    "            data=train_data,\n",
    "            validation_data=test_data,\n",
    "            config=\"config/apax_final.yaml\",\n",
    "        )\n",
    "\n",
    "        models.append(model)\n",
    "\n",
    "        # evaluate the model\n",
    "        prediction = ips.analysis.Prediction(model=model, data=test_data)\n",
    "        metrics = ips.analysis.PredictionMetrics(data=prediction)\n",
    "\n",
    "        force_decomposition = ips.analysis.ForceDecomposition(data=prediction)\n",
    "        volume_scan = ips.analysis.BoxScale(\n",
    "            data=geopt.atoms, mapping=mapping, model=model, start=0.9, data_id=-1\n",
    "        )\n",
    "    \n",
    "    with project.group(\"ALEvaluation\") as ALEvaluation:\n",
    "        for model in models:\n",
    "            prediction = ips.analysis.Prediction(model=model, data=test_data_selection.atoms)\n",
    "            metrics = ips.analysis.PredictionMetrics(data=prediction)\n",
    "            # force_decomposition = ips.analysis.ForceDecomposition(data=prediction)\n",
    "            # volume_scan = ips.analysis.BoxScale(\n",
    "            #     data=geopt.atoms, mapping=mapping, model=model, start=0.9, data_id=-1\n",
    "            # )\n",
    "\n",
    "\n",
    "\n",
    "project.build(nodes=[ALEvaluation])"
   ]
  },
  {
   "cell_type": "code",
   "execution_count": 7,
   "metadata": {},
   "outputs": [],
   "source": [
    "import zntrack\n",
    "import matplotlib.pyplot as plt\n",
    "import numpy as np"
   ]
  },
  {
   "cell_type": "code",
   "execution_count": 4,
   "metadata": {},
   "outputs": [],
   "source": [
    "dft_vs = zntrack.from_rev(\"volume_scan_CP2KSinglePoint_1\")\n",
    "mlp_vs = zntrack.from_rev(\"volume_scan_BoxScale\")"
   ]
  },
  {
   "cell_type": "code",
   "execution_count": 9,
   "metadata": {},
   "outputs": [
    {
     "data": {
      "text/plain": [
       "array([0.9       , 0.91632653, 0.93265306, 0.94897959, 0.96530612,\n",
       "       0.98163265, 0.99795918, 1.01428571, 1.03061224, 1.04693878,\n",
       "       1.06326531, 1.07959184, 1.09591837, 1.1122449 , 1.12857143,\n",
       "       1.14489796, 1.16122449, 1.17755102, 1.19387755, 1.21020408,\n",
       "       1.22653061, 1.24285714, 1.25918367, 1.2755102 , 1.29183673,\n",
       "       1.30816327, 1.3244898 , 1.34081633, 1.35714286, 1.37346939,\n",
       "       1.38979592, 1.40612245, 1.42244898, 1.43877551, 1.45510204,\n",
       "       1.47142857, 1.4877551 , 1.50408163, 1.52040816, 1.53673469,\n",
       "       1.55306122, 1.56938776, 1.58571429, 1.60204082, 1.61836735,\n",
       "       1.63469388, 1.65102041, 1.66734694, 1.68367347, 1.7       ])"
      ]
     },
     "execution_count": 9,
     "metadata": {},
     "output_type": "execute_result"
    }
   ],
   "source": []
  },
  {
   "cell_type": "code",
   "execution_count": 13,
   "metadata": {},
   "outputs": [
    {
     "data": {
      "text/plain": [
       "<matplotlib.legend.Legend at 0x152b8856b430>"
      ]
     },
     "execution_count": 13,
     "metadata": {},
     "output_type": "execute_result"
    },
    {
     "data": {
      "image/png": "[encoded data removed]",
      "text/plain": [
       "<Figure size 640x480 with 1 Axes>"
      ]
     },
     "metadata": {},
     "output_type": "display_data"
    }
   ],
   "source": [
    "fig, ax = plt.subplots()\n",
    "ax.plot(np.linspace(mlp_vs.start, mlp_vs.stop, mlp_vs.num), [x.get_potential_energy() for x in dft_vs.atoms], label='DFT')\n",
    "ax.plot(np.linspace(mlp_vs.start, mlp_vs.stop, mlp_vs.num), [x.get_potential_energy() for x in mlp_vs.atoms], label='MLP')\n",
    "ax.plot(np.linspace(mlp_vs.start, mlp_vs.stop, mlp_vs.num), [x.get_potential_energy() for x in mlp_vs.atoms], 'x', label='MLP', color=\"grey\")\n",
    "\n",
    "ax.set_ylabel('Energy / eV')\n",
    "ax.set_xlabel('scale factor of the initial cell')\n",
    "ax.legend()"
   ]
  },
  {
   "cell_type": "code",
   "execution_count": 6,
   "metadata": {},
   "outputs": [],
   "source": [
    "import zntrack\n",
    "import matplotlib.pyplot as plt"
   ]
  },
  {
   "cell_type": "code",
   "execution_count": 9,
   "metadata": {},
   "outputs": [],
   "source": [
    "nodes = []\n",
    "for idx in range(8):\n",
    "    name = f\"ALEvaluation_PredictionMetrics_{idx}\" if idx != 0 else \"ALEvaluation_PredictionMetrics\"\n",
    "    nodes.append(zntrack.from_rev(name))"
   ]
  },
  {
   "cell_type": "code",
   "execution_count": 12,
   "metadata": {},
   "outputs": [
    {
     "data": {
      "text/plain": [
       "Text(0.5, 1.0, 'forces')"
      ]
     },
     "execution_count": 12,
     "metadata": {},
     "output_type": "execute_result"
    },
    {
     "data": {
      "image/png": "[encoded data removed]",
      "text/plain": [
       "<Figure size 640x480 with 1 Axes>"
      ]
     },
     "metadata": {},
     "output_type": "display_data"
    }
   ],
   "source": [
    "fig, ax = plt.subplots()\n",
    "rmse = [x.forces[\"rmse\"] for x in nodes]\n",
    "\n",
    "ax.plot(rmse, label=\"RMSE\")\n",
    "ax.set_xlabel(\"AL_Cycle\")\n",
    "ax.set_ylabel(\"RMSE\")\n",
    "ax.set_yscale(\"log\")\n",
    "ax.set_xticks(range(len(nodes)))\n",
    "ax.set_xticklabels([x.data.model.name for x in nodes])\n",
    "ax.tick_params(axis='x', rotation=45)\n",
    "\n",
    "ax.legend()\n",
    "ax.set_title(\"forces\")"
   ]
  },
  {
   "cell_type": "code",
   "execution_count": null,
   "metadata": {},
   "outputs": [],
   "source": []
  }
 ],
 "metadata": {
  "kernelspec": {
   "display_name": "ipsuite",
   "language": "python",
   "name": "python3"
  },
  "language_info": {
   "codemirror_mode": {
    "name": "ipython",
    "version": 3
   },
   "file_extension": ".py",
   "mimetype": "text/x-python",
   "name": "python",
   "nbconvert_exporter": "python",
   "pygments_lexer": "ipython3",
   "version": "3.10.9"
  },
  "orig_nbformat": 4
 },
 "nbformat": 4,
 "nbformat_minor": 2
}
