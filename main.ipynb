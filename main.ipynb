{
 "cells": [
  {
   "cell_type": "code",
   "execution_count": 1,
   "metadata": {},
   "outputs": [
    {
     "name": "stdout",
     "output_type": "stream",
     "text": [
      "2023-10-12 14:53:05,301 (DEBUG): Welcome to IPS - the Interatomic Potential Suite!\n"
     ]
    }
   ],
   "source": [
    "import ipsuite as ips"
   ]
  },
  {
   "cell_type": "markdown",
   "metadata": {},
   "source": [
    "DFT based on https://www.sciencedirect.com/science/article/pii/S1386142521004455#b0030"
   ]
  },
  {
   "cell_type": "code",
   "execution_count": 2,
   "metadata": {},
   "outputs": [],
   "source": [
    "cp2k_shell = \"cp2k_shell.ssmp\"\n",
    "# cp2k_shell = \"mpirun -np 12 /home/linux38_i1/schaefer/miniconda3/envs/dmso/bin/cp2k_shell.psmp\""
   ]
  },
  {
   "cell_type": "markdown",
   "metadata": {},
   "source": [
    "# Auxiliary Nodes"
   ]
  },
  {
   "cell_type": "code",
   "execution_count": 3,
   "metadata": {},
   "outputs": [],
   "source": [
    "thermostat = ips.calculators.LangevinThermostat(\n",
    "    temperature=298.15, friction=0.01, time_step=0.5\n",
    ")\n",
    "\n",
    "uncertainty_check = ips.analysis.ThresholdCheck(\n",
    "    value=\"energy_uncertainty\", max_value=2.0, larger_only=True\n",
    ")\n",
    "\n",
    "mapping = ips.geometry.BarycenterMapping(data=None)\n",
    "temperature_oszillator = ips.calculators.TemperatureOscillatingRampModifier(\n",
    "    end_temperature=450,  # boiling around 460\n",
    "    start_temperature=270,  # melting around 290\n",
    "    num_oscillations=10,\n",
    "    temperature_amplitude=150,\n",
    ")\n",
    "\n",
    "box_oszillator = ips.calculators.BoxOscillatingRampModifier(\n",
    "    cell_amplitude=1,\n",
    "    num_oscillations=3,\n",
    ")\n",
    "\n",
    "eq_box_oszillator = ips.calculators.BoxOscillatingRampModifier(\n",
    "    end_cell=16.511,\n",
    "    cell_amplitude=1,\n",
    "    num_oscillations=3,\n",
    ")"
   ]
  },
  {
   "cell_type": "markdown",
   "metadata": {},
   "source": [
    "# Initial Training Data"
   ]
  },
  {
   "cell_type": "code",
   "execution_count": 4,
   "metadata": {},
   "outputs": [],
   "source": [
    "with ips.Project(automatic_node_names=True) as project:\n",
    "    mol = ips.configuration_generation.SmilesToAtoms(smiles=\"CS(=O)C\")\n",
    "\n",
    "    # Create a box of atoms.\n",
    "    packmol = ips.configuration_generation.Packmol(\n",
    "        data=[mol.atoms], count=[38], density=1095.2\n",
    "    )\n",
    "\n",
    "    # Define the CP2K calculations\n",
    "    cp2k = ips.calculators.CP2KSinglePoint(\n",
    "        data=packmol.atoms,\n",
    "        cp2k_files=[\"BASIS_MOLOPT\", \"GTH_POTENTIALS\", \"dftd3.dat\"],\n",
    "        cp2k_shell=cp2k_shell,\n",
    "    )\n",
    "\n",
    "    geopt = ips.calculators.ASEGeoOpt(\n",
    "        model=cp2k,\n",
    "        data=packmol.atoms,\n",
    "        optimizer=\"BFGS\",\n",
    "        run_kwargs={\"fmax\": 0.5},\n",
    "    )"
   ]
  },
  {
   "cell_type": "markdown",
   "metadata": {},
   "source": [
    "# Build the graph"
   ]
  },
  {
   "cell_type": "code",
   "execution_count": 5,
   "metadata": {},
   "outputs": [
    {
     "name": "stderr",
     "output_type": "stream",
     "text": [
      "Running DVC command: 'stage add --name SmilesToAtoms --force ...'\n",
      "Running DVC command: 'stage add --name Packmol --force ...'\n",
      "\u0000"
     ]
    },
    {
     "name": "stdout",
     "output_type": "stream",
     "text": [
      "\u0000"
     ]
    },
    {
     "name": "stderr",
     "output_type": "stream",
     "text": [
      "Running DVC command: 'stage add --name CP2KSinglePoint --force ...'\n",
      "\u0000"
     ]
    },
    {
     "name": "stdout",
     "output_type": "stream",
     "text": [
      "\u0000"
     ]
    },
    {
     "name": "stderr",
     "output_type": "stream",
     "text": [
      "Running DVC command: 'stage add --name ASEGeoOpt --force ...'\n",
      "\u0000"
     ]
    },
    {
     "name": "stdout",
     "output_type": "stream",
     "text": [
      "\u0000\u0000"
     ]
    },
    {
     "name": "stderr",
     "output_type": "stream",
     "text": [
      "\u0000"
     ]
    }
   ],
   "source": [
    "project.build()"
   ]
  },
  {
   "cell_type": "code",
   "execution_count": null,
   "metadata": {},
   "outputs": [],
   "source": []
  }
 ],
 "metadata": {
  "kernelspec": {
   "display_name": "Python 3 (ipykernel)",
   "language": "python",
   "name": "python3"
  },
  "language_info": {
   "codemirror_mode": {
    "name": "ipython",
    "version": 3
   },
   "file_extension": ".py",
   "mimetype": "text/x-python",
   "name": "python",
   "nbconvert_exporter": "python",
   "pygments_lexer": "ipython3",
   "version": "3.10.13"
  }
 },
 "nbformat": 4,
 "nbformat_minor": 4
}
