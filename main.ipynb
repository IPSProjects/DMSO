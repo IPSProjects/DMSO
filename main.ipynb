{
 "cells": [
  {
   "cell_type": "code",
   "execution_count": 1,
   "metadata": {},
   "outputs": [
    {
     "name": "stdout",
     "output_type": "stream",
     "text": [
      "2023-07-24 20:33:51,131 (DEBUG): Welcome to IPS - the Interatomic Potential Suite!\n"
     ]
    }
   ],
   "source": [
    "import ipsuite as ips"
   ]
  },
  {
   "cell_type": "markdown",
   "metadata": {},
   "source": [
    "DFT based on https://www.sciencedirect.com/science/article/pii/S1386142521004455#b0030"
   ]
  },
  {
   "cell_type": "code",
   "execution_count": 2,
   "metadata": {},
   "outputs": [
    {
     "name": "stderr",
     "output_type": "stream",
     "text": [
      "Running DVC command: 'stage add --name AL_2_MLModel --force ...'\n"
     ]
    },
    {
     "name": "stderr",
     "output_type": "stream",
     "text": [
      "Running DVC command: 'stage add --name AL_2_MLModel_1 --force ...'\n",
      "Running DVC command: 'stage add --name AL_2_EnsembleModel --force ...'\n",
      "Running DVC command: 'stage add --name AL_2_ASEMD --force ...'\n",
      "Running DVC command: 'stage add --name AL_2_ASEMD_checker_list_0 --force ...'\n",
      "Running DVC command: 'stage add --name AL_2_ASEMD_thermostat --force ...'\n",
      "Running DVC command: 'stage add --name AL_2_ConfigurationSelection_1 --force ...'\n",
      "Running DVC command: 'stage add --name AL_2_ConfigurationSelection_2 --force ...'\n",
      "Running DVC command: 'stage add --name AL_2_CP2KSinglePoint_1 --force ...'\n",
      "Running DVC command: 'stage add --name AL_2_CP2KSinglePoint_2 --force ...'\n",
      "Running DVC command: 'stage add --name AL_2_Prediction --force ...'\n",
      "Running DVC command: 'stage add --name AL_2_PredictionMetrics --force ...'\n"
     ]
    }
   ],
   "source": [
    "thermostat = ips.calculators.LangevinThermostat(\n",
    "    temperature=298.15, friction=0.01, time_step=0.5\n",
    ")\n",
    "\n",
    "uncertainty_check = ips.analysis.ThresholdCheck(\n",
    "    value=\"energy_uncertainty\", max_value=2.0, larger_only=True\n",
    ")\n",
    "\n",
    "with ips.Project(automatic_node_names=True) as project:\n",
    "    mol = ips.configuration_generation.SmilesToAtoms(smiles=\"CS(=O)C\")\n",
    "\n",
    "    # Create a box of atoms.\n",
    "    packmol = ips.configuration_generation.Packmol(\n",
    "        data=[mol.atoms], count=[38], density=1095.2\n",
    "    )\n",
    "\n",
    "    # Define the CP2K calculations\n",
    "    cp2k = ips.calculators.CP2KSinglePoint(\n",
    "        data=packmol.atoms,\n",
    "        cp2k_files=[\"BASIS_MOLOPT\", \"GTH_POTENTIALS\", \"dftd3.dat\"],\n",
    "        cp2k_shell=\"cp2k_shell.ssmp\",\n",
    "    )\n",
    "\n",
    "    geopt = ips.calculators.ASEGeoOpt(\n",
    "        model=cp2k,\n",
    "        data=packmol.atoms,\n",
    "        optimizer=\"BFGS\",\n",
    "        run_kwargs={\"fmax\": 0.5},\n",
    "    )\n",
    "\n",
    "    test_selection = ips.configuration_selection.RandomSelection(data=geopt.atoms, n_configurations=20)\n",
    "    \n",
    "    train_data = test_selection.excluded_atoms\n",
    "    test_data = test_selection.atoms\n",
    "\n",
    "    for cycle in range(3):\n",
    "        with project.group(name=f\"AL_{cycle}\") as group:\n",
    "            # Define the ML model\n",
    "            model1 = ips.models.Apax(\n",
    "                data=train_data,\n",
    "                validation_data=test_data,\n",
    "                config=\"config/apax_1.yaml\",\n",
    "            )\n",
    "            model2 = ips.models.Apax(\n",
    "                data=train_data,\n",
    "                validation_data=test_data,\n",
    "                config=\"config/apax_2.yaml\",\n",
    "            )\n",
    "\n",
    "            ensemble_model = ips.models.EnsembleModel(models=[model1, model2])\n",
    "\n",
    "            md = ips.calculators.ASEMD(\n",
    "                    data=geopt.atoms,\n",
    "                    data_id=-1,\n",
    "                    model=ensemble_model,\n",
    "                    thermostat=thermostat,\n",
    "                    checker_list=[uncertainty_check],\n",
    "                    steps=50000,\n",
    "                    sampling_rate=1,\n",
    "                )\n",
    "            \n",
    "            train_data_selection = ips.configuration_selection.ThresholdSelection(\n",
    "                    data=md, n_configurations=10, min_distance=10\n",
    "                )\n",
    "\n",
    "            test_data_selection = ips.configuration_selection.RandomSelection(\n",
    "                data=md,\n",
    "                n_configurations=5,\n",
    "                exclude_configurations=train_data_selection.selected_configurations,\n",
    "            )\n",
    "\n",
    "            train_data += ips.calculators.CP2KSinglePoint(\n",
    "                    data=train_data_selection,\n",
    "                    cp2k_files=[\"BASIS_MOLOPT\", \"GTH_POTENTIALS\", \"dftd3.dat\"],\n",
    "                    cp2k_shell=\"cp2k_shell.ssmp\",\n",
    "                    wfn_restart_node=cp2k, # these are not set in cycle 0, so use nodes=[group] to build, or commit afterwards\n",
    "                ).atoms\n",
    "\n",
    "            test_data += ips.calculators.CP2KSinglePoint(\n",
    "                data=test_data_selection,\n",
    "                cp2k_files=[\"BASIS_MOLOPT\", \"GTH_POTENTIALS\", \"dftd3.dat\"],\n",
    "                cp2k_shell=\"cp2k_shell.ssmp\",\n",
    "                wfn_restart_node=cp2k,\n",
    "            ).atoms\n",
    "\n",
    "            # evaluate the model\n",
    "            prediction = ips.analysis.Prediction(model=ensemble_model, data=test_data)\n",
    "            metrics = ips.analysis.PredictionMetrics(data=prediction)\n",
    "\n",
    "project.build(nodes=[group])"
   ]
  },
  {
   "cell_type": "code",
   "execution_count": null,
   "metadata": {},
   "outputs": [],
   "source": []
  }
 ],
 "metadata": {
  "kernelspec": {
   "display_name": "ipsuite",
   "language": "python",
   "name": "python3"
  },
  "language_info": {
   "codemirror_mode": {
    "name": "ipython",
    "version": 3
   },
   "file_extension": ".py",
   "mimetype": "text/x-python",
   "name": "python",
   "nbconvert_exporter": "python",
   "pygments_lexer": "ipython3",
   "version": "3.10.9"
  },
  "orig_nbformat": 4
 },
 "nbformat": 4,
 "nbformat_minor": 2
}
